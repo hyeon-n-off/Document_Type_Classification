{
 "cells": [
  {
   "cell_type": "markdown",
   "metadata": {},
   "source": [
    "### 라이브러리 가져오기"
   ]
  },
  {
   "cell_type": "code",
   "execution_count": 1,
   "metadata": {
    "execution": {
     "iopub.execute_input": "2024-04-19T17:14:29.673556Z",
     "iopub.status.busy": "2024-04-19T17:14:29.673332Z",
     "iopub.status.idle": "2024-04-19T17:14:31.761353Z",
     "shell.execute_reply": "2024-04-19T17:14:31.760678Z"
    }
   },
   "outputs": [],
   "source": [
    "import os\n",
    "import random\n",
    "import timm\n",
    "import time\n",
    "import pickle\n",
    "\n",
    "import torch\n",
    "from torch.optim.lr_scheduler import CosineAnnealingWarmRestarts\n",
    "\n",
    "import albumentations as A\n",
    "from albumentations.pytorch import ToTensorV2\n",
    "\n",
    "import torch.nn as nn\n",
    "\n",
    "from torch.cuda.amp import GradScaler, autocast\n",
    "from torch.optim import Adam\n",
    "from torch.utils.data import Dataset, DataLoader\n",
    "\n",
    "from sklearn.model_selection import StratifiedKFold\n",
    "from sklearn.metrics import accuracy_score, f1_score\n",
    "\n",
    "from PIL import Image\n",
    "from tqdm import tqdm\n",
    "\n",
    "import pandas as pd\n",
    "import numpy as np\n",
    "import pandas as pd\n",
    "\n",
    "\n",
    "import logging\n",
    "import warnings\n",
    "warnings.filterwarnings(action='ignore')"
   ]
  },
  {
   "cell_type": "markdown",
   "metadata": {},
   "source": [
    "### CONFIG"
   ]
  },
  {
   "cell_type": "code",
   "execution_count": 2,
   "metadata": {
    "execution": {
     "iopub.execute_input": "2024-04-19T17:14:31.765315Z",
     "iopub.status.busy": "2024-04-19T17:14:31.764925Z",
     "iopub.status.idle": "2024-04-19T17:14:31.769376Z",
     "shell.execute_reply": "2024-04-19T17:14:31.768893Z"
    }
   },
   "outputs": [],
   "source": [
    "class CONFIG:\n",
    "\n",
    "    @staticmethod\n",
    "    def set_seed(SEED):\n",
    "        os.environ['PYTHONHASHSEED'] = str(SEED)\n",
    "        random.seed(SEED)\n",
    "        np.random.seed(SEED)\n",
    "        torch.manual_seed(SEED)\n",
    "        torch.cuda.manual_seed(SEED)\n",
    "        torch.cuda.manual_seed_all(SEED)\n",
    "        torch.backends.cudnn.benchmark = True\n",
    "    \n",
    "    @staticmethod\n",
    "    def set_path(root_path):\n",
    "        train_path = f'{root_path}/train/'\n",
    "        test_path = f'{root_path}/test/'\n",
    "\n",
    "        return root_path, train_path, test_path"
   ]
  },
  {
   "cell_type": "code",
   "execution_count": 3,
   "metadata": {
    "execution": {
     "iopub.execute_input": "2024-04-19T17:14:31.771587Z",
     "iopub.status.busy": "2024-04-19T17:14:31.771238Z",
     "iopub.status.idle": "2024-04-19T17:14:31.774303Z",
     "shell.execute_reply": "2024-04-19T17:14:31.773825Z"
    }
   },
   "outputs": [],
   "source": [
    "logging.basicConfig(level=logging.INFO, format='%(asctime)s - %(levelname)s - %(message)s', \n",
    "                    handlers=[logging.FileHandler('notebook.log'), logging.StreamHandler()])"
   ]
  },
  {
   "cell_type": "code",
   "execution_count": 4,
   "metadata": {
    "execution": {
     "iopub.execute_input": "2024-04-19T17:14:31.776432Z",
     "iopub.status.busy": "2024-04-19T17:14:31.776111Z",
     "iopub.status.idle": "2024-04-19T17:14:31.780881Z",
     "shell.execute_reply": "2024-04-19T17:14:31.780334Z"
    }
   },
   "outputs": [
    {
     "name": "stderr",
     "output_type": "stream",
     "text": [
      "2024-04-20 02:14:31,778 - INFO - 1. Set Seed\n"
     ]
    }
   ],
   "source": [
    "CONFIG.set_seed(0xC0FFE)\n",
    "root_path, train_path, test_path = CONFIG.set_path('/root/Project/new_data')\n",
    "\n",
    "logging.info('1. Set Seed')"
   ]
  },
  {
   "cell_type": "markdown",
   "metadata": {},
   "source": [
    "### CustomDataset"
   ]
  },
  {
   "cell_type": "code",
   "execution_count": 5,
   "metadata": {
    "execution": {
     "iopub.execute_input": "2024-04-19T17:14:31.812879Z",
     "iopub.status.busy": "2024-04-19T17:14:31.812430Z",
     "iopub.status.idle": "2024-04-19T17:14:31.818859Z",
     "shell.execute_reply": "2024-04-19T17:14:31.818230Z"
    }
   },
   "outputs": [
    {
     "name": "stderr",
     "output_type": "stream",
     "text": [
      "2024-04-20 02:14:31,816 - INFO - 2. Define Dataset Class\n"
     ]
    }
   ],
   "source": [
    "# 데이터셋 클래스를 정의합니다.\n",
    "class ImageDataset(Dataset):\n",
    "    def __init__(self, df, path, transform=None):\n",
    "        self.df = df\n",
    "        self.path = path\n",
    "        self.transform = transform\n",
    "\n",
    "    def __len__(self):\n",
    "        return len(self.df)\n",
    "\n",
    "    def __getitem__(self, idx):\n",
    "        name, target = self.df.iloc[idx]\n",
    "        img = np.array(Image.open(os.path.join(self.path, name)))\n",
    "        if self.transform:\n",
    "            img = self.transform(image=img)['image']\n",
    "        return img, target\n",
    "\n",
    "logging.info('2. Define Dataset Class')"
   ]
  },
  {
   "cell_type": "code",
   "execution_count": 6,
   "metadata": {
    "execution": {
     "iopub.execute_input": "2024-04-19T17:14:31.820941Z",
     "iopub.status.busy": "2024-04-19T17:14:31.820778Z",
     "iopub.status.idle": "2024-04-19T17:14:31.833152Z",
     "shell.execute_reply": "2024-04-19T17:14:31.832663Z"
    }
   },
   "outputs": [
    {
     "name": "stderr",
     "output_type": "stream",
     "text": [
      "2024-04-20 02:14:31,830 - INFO - 3. Set Hyperparameter\n"
     ]
    }
   ],
   "source": [
    "# 하이퍼파라미터 및 설정\n",
    "device = torch.device('cuda' if torch.cuda.is_available() else 'cpu')\n",
    "model_name = 'tf_efficientnetv2_m'  # 모델명\n",
    "img_size = 224\n",
    "learning_rate = 1e-4\n",
    "num_epochs = 10\n",
    "batch_size = 32\n",
    "num_workers = 8\n",
    "patience = 3\n",
    "T_0 = 5\n",
    "T_mult = 2\n",
    "eta_min = 1e-6\n",
    "\n",
    "train_transform = A.Compose([\n",
    "    A.Resize(height=img_size, width=img_size),\n",
    "    A.Normalize(mean=[0.485, 0.456, 0.406], std=[0.229, 0.224, 0.225]),\n",
    "    ToTensorV2(),\n",
    "])\n",
    "\n",
    "test_transform = A.Compose([\n",
    "    A.LongestMaxSize(max_size=img_size, always_apply=True), \n",
    "    A.PadIfNeeded(min_height=img_size, min_width=img_size, border_mode=0, value=(255, 255, 255)), \n",
    "    A.Normalize(mean=[0.485, 0.456, 0.406], std=[0.229, 0.224, 0.225]),\n",
    "    ToTensorV2(),\n",
    "])\n",
    "\n",
    "logging.info('3. Set Hyperparameter')"
   ]
  },
  {
   "cell_type": "code",
   "execution_count": 7,
   "metadata": {
    "execution": {
     "iopub.execute_input": "2024-04-19T17:14:31.835230Z",
     "iopub.status.busy": "2024-04-19T17:14:31.835038Z",
     "iopub.status.idle": "2024-04-19T17:14:31.936999Z",
     "shell.execute_reply": "2024-04-19T17:14:31.936499Z"
    }
   },
   "outputs": [
    {
     "name": "stderr",
     "output_type": "stream",
     "text": [
      "2024-04-20 02:14:31,934 - INFO - 4. Load Data\n"
     ]
    }
   ],
   "source": [
    "# 훈련 데이터 로드 및 클래스 할당\n",
    "train_file = pd.read_csv(f'{root_path}/combined_data.csv')\n",
    "train_file['class'] = None\n",
    "\n",
    "train_file.loc[train_file['target'].isin([0, 5, 8, 9]), 'class'] = 0\n",
    "train_file.loc[train_file['target'].isin([2, 16]), 'class'] = 1\n",
    "train_file.loc[train_file['target'].isin([1, 3, 4, 6, 7, 10, 11, 12, 13, 14, 15]), 'class'] = 2\n",
    "\n",
    "\n",
    "# 훈련 데이터셋 생성 및 로더 설정\n",
    "train_datasets = {cls: ImageDataset(df=train_file[train_file['class'] == cls], \n",
    "                                    path=train_path, \n",
    "                                    transform=train_transform) \n",
    "                  for cls in range(3)}\n",
    "\n",
    "train_loaders = {cls: DataLoader(dataset, batch_size=batch_size, shuffle=True) \n",
    "                 for cls, dataset in train_datasets.items()}\n",
    "\n",
    "logging.info('4. Load Data')"
   ]
  },
  {
   "cell_type": "markdown",
   "metadata": {},
   "source": [
    "### class가 1인 car class에 대해서만 학습"
   ]
  },
  {
   "cell_type": "code",
   "execution_count": 8,
   "metadata": {
    "execution": {
     "iopub.execute_input": "2024-04-19T17:14:31.939288Z",
     "iopub.status.busy": "2024-04-19T17:14:31.939161Z",
     "iopub.status.idle": "2024-04-19T17:14:31.952194Z",
     "shell.execute_reply": "2024-04-19T17:14:31.951621Z"
    }
   },
   "outputs": [],
   "source": [
    "class_file = train_file.loc[train_file['class'] == 1, ['ID', 'target']]\n",
    "class_dataset = train_datasets[1]\n",
    "class_loader = train_loaders[1]"
   ]
  },
  {
   "cell_type": "code",
   "execution_count": 9,
   "metadata": {
    "execution": {
     "iopub.execute_input": "2024-04-19T17:14:31.954349Z",
     "iopub.status.busy": "2024-04-19T17:14:31.953958Z",
     "iopub.status.idle": "2024-04-19T17:14:31.962593Z",
     "shell.execute_reply": "2024-04-19T17:14:31.962167Z"
    }
   },
   "outputs": [
    {
     "data": {
      "text/html": [
       "<div>\n",
       "<style scoped>\n",
       "    .dataframe tbody tr th:only-of-type {\n",
       "        vertical-align: middle;\n",
       "    }\n",
       "\n",
       "    .dataframe tbody tr th {\n",
       "        vertical-align: top;\n",
       "    }\n",
       "\n",
       "    .dataframe thead th {\n",
       "        text-align: right;\n",
       "    }\n",
       "</style>\n",
       "<table border=\"1\" class=\"dataframe\">\n",
       "  <thead>\n",
       "    <tr style=\"text-align: right;\">\n",
       "      <th></th>\n",
       "      <th>ID</th>\n",
       "      <th>target</th>\n",
       "    </tr>\n",
       "  </thead>\n",
       "  <tbody>\n",
       "    <tr>\n",
       "      <th>0</th>\n",
       "      <td>002f99746285dfdd.jpg</td>\n",
       "      <td>1</td>\n",
       "    </tr>\n",
       "    <tr>\n",
       "      <th>4</th>\n",
       "      <td>00b2f44967580c74.jpg</td>\n",
       "      <td>1</td>\n",
       "    </tr>\n",
       "    <tr>\n",
       "      <th>7</th>\n",
       "      <td>00f59b12e9e08f29.jpg</td>\n",
       "      <td>1</td>\n",
       "    </tr>\n",
       "    <tr>\n",
       "      <th>26</th>\n",
       "      <td>03ce6a0a86939c04.jpg</td>\n",
       "      <td>0</td>\n",
       "    </tr>\n",
       "    <tr>\n",
       "      <th>32</th>\n",
       "      <td>04d106668176a2e6.jpg</td>\n",
       "      <td>1</td>\n",
       "    </tr>\n",
       "    <tr>\n",
       "      <th>...</th>\n",
       "      <td>...</td>\n",
       "      <td>...</td>\n",
       "    </tr>\n",
       "    <tr>\n",
       "      <th>138771</th>\n",
       "      <td>noised1_mixup_flipud_6dbb0d26b45902b4.jpg_9ac1...</td>\n",
       "      <td>1</td>\n",
       "    </tr>\n",
       "    <tr>\n",
       "      <th>138772</th>\n",
       "      <td>noised1_mixup_flipud_6dbb0d26b45902b4.jpg_9ac1...</td>\n",
       "      <td>1</td>\n",
       "    </tr>\n",
       "    <tr>\n",
       "      <th>138773</th>\n",
       "      <td>noised1_mixup_flipud_6dbb0d26b45902b4.jpg_9ac1...</td>\n",
       "      <td>1</td>\n",
       "    </tr>\n",
       "    <tr>\n",
       "      <th>138774</th>\n",
       "      <td>noised1_mixup_flipud_6dbb0d26b45902b4.jpg_9ac1...</td>\n",
       "      <td>1</td>\n",
       "    </tr>\n",
       "    <tr>\n",
       "      <th>138775</th>\n",
       "      <td>noised1_mixup_flipud_6dbb0d26b45902b4.jpg_9ac1...</td>\n",
       "      <td>1</td>\n",
       "    </tr>\n",
       "  </tbody>\n",
       "</table>\n",
       "<p>17160 rows × 2 columns</p>\n",
       "</div>"
      ],
      "text/plain": [
       "                                                       ID  target\n",
       "0                                    002f99746285dfdd.jpg       1\n",
       "4                                    00b2f44967580c74.jpg       1\n",
       "7                                    00f59b12e9e08f29.jpg       1\n",
       "26                                   03ce6a0a86939c04.jpg       0\n",
       "32                                   04d106668176a2e6.jpg       1\n",
       "...                                                   ...     ...\n",
       "138771  noised1_mixup_flipud_6dbb0d26b45902b4.jpg_9ac1...       1\n",
       "138772  noised1_mixup_flipud_6dbb0d26b45902b4.jpg_9ac1...       1\n",
       "138773  noised1_mixup_flipud_6dbb0d26b45902b4.jpg_9ac1...       1\n",
       "138774  noised1_mixup_flipud_6dbb0d26b45902b4.jpg_9ac1...       1\n",
       "138775  noised1_mixup_flipud_6dbb0d26b45902b4.jpg_9ac1...       1\n",
       "\n",
       "[17160 rows x 2 columns]"
      ]
     },
     "execution_count": 9,
     "metadata": {},
     "output_type": "execute_result"
    }
   ],
   "source": [
    "# 2 --> 0\n",
    "# 16 --> 1\n",
    "class_file.loc[class_file['target'] == 2, 'target'] = 0\n",
    "class_file.loc[class_file['target'] == 16, 'target'] = 1\n",
    "\n",
    "class_file"
   ]
  },
  {
   "cell_type": "markdown",
   "metadata": {},
   "source": [
    "### Stratified K-Fold"
   ]
  },
  {
   "cell_type": "code",
   "execution_count": 10,
   "metadata": {
    "execution": {
     "iopub.execute_input": "2024-04-19T17:14:31.964651Z",
     "iopub.status.busy": "2024-04-19T17:14:31.964386Z",
     "iopub.status.idle": "2024-04-19T17:14:31.966923Z",
     "shell.execute_reply": "2024-04-19T17:14:31.966508Z"
    }
   },
   "outputs": [],
   "source": [
    "# Stratified K-Fold\n",
    "skf = StratifiedKFold(n_splits=5)\n",
    "train_folds = skf.split(class_file['ID'], class_file['target'])"
   ]
  },
  {
   "cell_type": "markdown",
   "metadata": {},
   "source": [
    "### 모델 학습"
   ]
  },
  {
   "cell_type": "code",
   "execution_count": 11,
   "metadata": {
    "execution": {
     "iopub.execute_input": "2024-04-19T17:14:31.968912Z",
     "iopub.status.busy": "2024-04-19T17:14:31.968652Z",
     "iopub.status.idle": "2024-04-19T17:14:31.973077Z",
     "shell.execute_reply": "2024-04-19T17:14:31.972589Z"
    }
   },
   "outputs": [],
   "source": [
    "# one epoch 학습을 위한 함수입니다.\n",
    "def _train_one_epoch(loader, model, optimizer, loss_fn, scheduler, scaler, device):\n",
    "    model.train()\n",
    "    train_loss = 0\n",
    "    preds_list = []\n",
    "    targets_list = []\n",
    "\n",
    "    pbar = tqdm(loader)\n",
    "    for images, targets in pbar:\n",
    "        targets = targets.type(torch.LongTensor)\n",
    "        \n",
    "        images = images.to(device)\n",
    "        targets = targets.to(device)\n",
    "\n",
    "        model.zero_grad(set_to_none=True)\n",
    "\n",
    "        with autocast():\n",
    "            preds = model(images)\n",
    "            loss = loss_fn(preds, targets)\n",
    "            \n",
    "        scaler.scale(loss).backward()\n",
    "        scaler.step(optimizer)\n",
    "        scaler.update()\n",
    "\n",
    "        train_loss += loss.item()\n",
    "        preds_list.extend(preds.argmax(dim=1).detach().cpu().numpy())\n",
    "        targets_list.extend(targets.detach().cpu().numpy())\n",
    "\n",
    "        pbar.set_description(f\"Loss: {loss.item():.4f}\")\n",
    "    \n",
    "    scheduler.step()\n",
    "\n",
    "    train_loss /= len(loader)\n",
    "    train_acc = accuracy_score(targets_list, preds_list)\n",
    "    train_f1 = f1_score(targets_list, preds_list, average='macro')\n",
    "\n",
    "    ret = {\n",
    "        \"train_loss\": train_loss,\n",
    "        \"train_acc\": train_acc,\n",
    "        \"train_f1\": train_f1,\n",
    "    }\n",
    "\n",
    "    return ret"
   ]
  },
  {
   "cell_type": "code",
   "execution_count": 12,
   "metadata": {
    "execution": {
     "iopub.execute_input": "2024-04-19T17:14:31.975346Z",
     "iopub.status.busy": "2024-04-19T17:14:31.974943Z",
     "iopub.status.idle": "2024-04-19T17:14:31.979616Z",
     "shell.execute_reply": "2024-04-19T17:14:31.979097Z"
    }
   },
   "outputs": [],
   "source": [
    "# one epoch 학습을 위한 함수입니다.\n",
    "def _val_one_epoch(loader, model, device):\n",
    "    model.eval()\n",
    "    \n",
    "    preds_list = []\n",
    "    targets_list = []\n",
    "\n",
    "    pbar = tqdm(loader)\n",
    "    for images, targets in pbar:\n",
    "        targets = targets.type(torch.LongTensor)\n",
    "\n",
    "        images = images.to(device)\n",
    "        targets = targets.to(device)\n",
    "\n",
    "        model.zero_grad(set_to_none=True)\n",
    "        with torch.no_grad():\n",
    "            preds = model(images)\n",
    "\n",
    "        preds_list.extend(preds.argmax(dim=1).detach().cpu().numpy())\n",
    "        targets_list.extend(targets.detach().cpu().numpy())\n",
    "\n",
    "    train_acc = accuracy_score(targets_list, preds_list)\n",
    "    train_f1 = f1_score(targets_list, preds_list, average='macro')\n",
    "\n",
    "    ret = {\n",
    "        \"train_acc\": train_acc,\n",
    "        \"train_f1\": train_f1,\n",
    "    }\n",
    "\n",
    "    return ret, train_f1"
   ]
  },
  {
   "cell_type": "code",
   "execution_count": 13,
   "metadata": {
    "execution": {
     "iopub.execute_input": "2024-04-19T17:14:31.981860Z",
     "iopub.status.busy": "2024-04-19T17:14:31.981469Z",
     "iopub.status.idle": "2024-04-19T17:14:31.992530Z",
     "shell.execute_reply": "2024-04-19T17:14:31.991985Z"
    }
   },
   "outputs": [],
   "source": [
    "def train_model(patience, num_epochs, device):\n",
    "\n",
    "    # 시작 시간\n",
    "    since = time.time()\n",
    "\n",
    "    models = []\n",
    "\n",
    "    for fold_index, (train_index, validation_index) in enumerate(train_folds):\n",
    "        \n",
    "        # 그라디언트 스케일러 초기화\n",
    "        scaler = GradScaler()\n",
    "        print()\n",
    "        print(f'Stratified K-Fold: {fold_index}')\n",
    "        logging.info(f'Stratified K-Fold: {fold_index + 1} / 5')\n",
    "        print('-' * 10)\n",
    "\n",
    "        model = timm.create_model(\n",
    "            model_name=model_name,\n",
    "            pretrained=True,\n",
    "            # 이진 분류\n",
    "            num_classes=2\n",
    "        ).to(device)\n",
    "\n",
    "        loss_fn = nn.CrossEntropyLoss()\n",
    "        optimizer = Adam(model.parameters(), lr=learning_rate)\n",
    "        scheduler = CosineAnnealingWarmRestarts(optimizer, T_0=T_0, T_mult=T_mult, eta_min=eta_min)\n",
    "        \n",
    "        # train\n",
    "        train_data = class_file.iloc[train_index, :]\n",
    "        train_dataset = ImageDataset(\n",
    "            df=train_data,\n",
    "            path=train_path,\n",
    "            transform=train_transform\n",
    "        )\n",
    "        train_loader = DataLoader(\n",
    "            train_dataset,\n",
    "            batch_size=batch_size,\n",
    "            shuffle=True,\n",
    "            num_workers=num_workers,\n",
    "            pin_memory=True,\n",
    "            drop_last=False\n",
    "        )\n",
    "\n",
    "        # validation\n",
    "        validation_data = class_file.iloc[validation_index, :]\n",
    "        validation_dataset = ImageDataset(\n",
    "            df=validation_data,\n",
    "            path=train_path,\n",
    "            transform=train_transform\n",
    "        )\n",
    "        validation_loader = DataLoader(\n",
    "            validation_dataset,\n",
    "            batch_size=batch_size,\n",
    "            shuffle=True,\n",
    "            num_workers=num_workers,\n",
    "            pin_memory=True,\n",
    "            drop_last=False\n",
    "        )\n",
    "\n",
    "        best_epoch = 0\n",
    "        best_f1_score = 0\n",
    "        early_stop_counter = 0\n",
    "        best_model_weights = None\n",
    "\n",
    "        for epoch in range(num_epochs):\n",
    "            print(f'Epoch {epoch}/{num_epochs - 1}')\n",
    "            print('-' * 10)\n",
    "            logging.info(f\"Epoch {epoch + 1}/{num_epochs}\")\n",
    "\n",
    "            if early_stop_counter >= patience:\n",
    "                logging.info(f\"Early Stopping... epoch {epoch + 1}\")\n",
    "                print(\"Early Stopping....\\n\")\n",
    "                break\n",
    "\n",
    "\n",
    "            # train\n",
    "            ret = _train_one_epoch(train_loader, model, optimizer, loss_fn, scheduler, scaler, device)\n",
    "            # validation\n",
    "            ret2, val_f1 = _val_one_epoch(validation_loader, model, device)\n",
    "\n",
    "            print(f\"Loss: {ret['train_loss']:.4f}, train Accuracy: {ret['train_acc']:.4f}, train F1-Score: {ret['train_f1']:.4f}\")\n",
    "            print(f\"validation Accuracy: {ret2['train_acc']:.4f}, validation F1-Score: {ret2['train_f1']:.4f}\")\n",
    "            print('-' * 10)\n",
    "            \n",
    "            # f1-score을 비교\n",
    "            if val_f1 > best_f1_score:\n",
    "                early_stop_counter = 0\n",
    "\n",
    "                best_epoch = epoch\n",
    "                best_f1_score = val_f1\n",
    "                best_model_weights = model.state_dict()\n",
    "                \n",
    "            else:\n",
    "                early_stop_counter += 1\n",
    "\n",
    "    \n",
    "        print(f'best epoch: {best_epoch}, best f1 score: {best_f1_score}')\n",
    "\n",
    "        time_elapsed = time.time() - since\n",
    "        print(f'Training complete in {time_elapsed // 60:.0f}m {time_elapsed % 60:.0f}s')\n",
    "\n",
    "        # 가장 좋은 모델의 가중치(w) 가져오기\n",
    "        model.load_state_dict(best_model_weights)\n",
    "    \n",
    "        model_path = f'{root_path}/model/{model_name}'\n",
    "        if not os.path.exists(model_path):\n",
    "            os.makedirs(model_path)\n",
    "\n",
    "        with open(f'{model_path}/fold_{fold_index}' + '.pkl', 'wb') as f:\n",
    "            pickle.dump(model, f)\n",
    "\n",
    "        models.append({\n",
    "            'model': model,\n",
    "            'weights': best_model_weights,\n",
    "            'f1_score': best_f1_score,\n",
    "        })\n",
    "        \n",
    "    return models"
   ]
  },
  {
   "cell_type": "code",
   "execution_count": 14,
   "metadata": {
    "execution": {
     "iopub.execute_input": "2024-04-19T17:14:31.995173Z",
     "iopub.status.busy": "2024-04-19T17:14:31.994701Z",
     "iopub.status.idle": "2024-04-19T17:14:31.998808Z",
     "shell.execute_reply": "2024-04-19T17:14:31.998258Z"
    }
   },
   "outputs": [
    {
     "name": "stderr",
     "output_type": "stream",
     "text": [
      "2024-04-20 02:14:31,995 - INFO - 5. Start Training\n",
      "2024-04-20 02:14:31,996 - INFO - ----------------------------------------------\n"
     ]
    }
   ],
   "source": [
    "logging.info('5. Start Training')\n",
    "logging.info('----------------------------------------------')"
   ]
  },
  {
   "cell_type": "code",
   "execution_count": 15,
   "metadata": {
    "execution": {
     "iopub.execute_input": "2024-04-19T17:14:32.001349Z",
     "iopub.status.busy": "2024-04-19T17:14:32.000913Z",
     "iopub.status.idle": "2024-04-19T17:34:26.332098Z",
     "shell.execute_reply": "2024-04-19T17:34:26.331584Z"
    }
   },
   "outputs": [
    {
     "name": "stderr",
     "output_type": "stream",
     "text": [
      "2024-04-20 02:14:32,004 - INFO - Stratified K-Fold: 1 / 5\n"
     ]
    },
    {
     "name": "stdout",
     "output_type": "stream",
     "text": [
      "\n",
      "Stratified K-Fold: 0\n",
      "----------\n"
     ]
    },
    {
     "name": "stderr",
     "output_type": "stream",
     "text": [
      "2024-04-20 02:14:32,517 - INFO - Loading pretrained weights from Hugging Face hub (timm/tf_efficientnetv2_m.in21k_ft_in1k)\n",
      "2024-04-20 02:14:32,877 - INFO - [timm/tf_efficientnetv2_m.in21k_ft_in1k] Safe alternative available for 'pytorch_model.bin' (as 'model.safetensors'). Loading weights using safetensors.\n",
      "2024-04-20 02:14:33,192 - INFO - Epoch 1/10\n"
     ]
    },
    {
     "name": "stdout",
     "output_type": "stream",
     "text": [
      "Epoch 0/9\n",
      "----------\n"
     ]
    },
    {
     "name": "stderr",
     "output_type": "stream",
     "text": [
      "Loss: 0.0000: 100%|██████████| 429/429 [00:46<00:00,  9.28it/s]\n",
      "100%|██████████| 108/108 [00:05<00:00, 18.73it/s]\n",
      "2024-04-20 02:15:25,222 - INFO - Epoch 2/10\n"
     ]
    },
    {
     "name": "stdout",
     "output_type": "stream",
     "text": [
      "Loss: 0.0535, train Accuracy: 0.9937, train F1-Score: 0.9937\n",
      "validation Accuracy: 0.9974, validation F1-Score: 0.9974\n",
      "----------\n",
      "Epoch 1/9\n",
      "----------\n"
     ]
    },
    {
     "name": "stderr",
     "output_type": "stream",
     "text": [
      "Loss: 0.0000: 100%|██████████| 429/429 [00:43<00:00,  9.83it/s]\n",
      "100%|██████████| 108/108 [00:05<00:00, 21.43it/s]\n",
      "2024-04-20 02:16:13,944 - INFO - Epoch 3/10\n"
     ]
    },
    {
     "name": "stdout",
     "output_type": "stream",
     "text": [
      "Loss: 0.0029, train Accuracy: 0.9995, train F1-Score: 0.9995\n",
      "validation Accuracy: 1.0000, validation F1-Score: 1.0000\n",
      "----------\n",
      "Epoch 2/9\n",
      "----------\n"
     ]
    },
    {
     "name": "stderr",
     "output_type": "stream",
     "text": [
      "Loss: 0.0000: 100%|██████████| 429/429 [00:43<00:00,  9.82it/s]\n",
      "100%|██████████| 108/108 [00:05<00:00, 21.13it/s]\n",
      "2024-04-20 02:17:02,776 - INFO - Epoch 4/10\n"
     ]
    },
    {
     "name": "stdout",
     "output_type": "stream",
     "text": [
      "Loss: 0.0006, train Accuracy: 0.9999, train F1-Score: 0.9999\n",
      "validation Accuracy: 1.0000, validation F1-Score: 1.0000\n",
      "----------\n",
      "Epoch 3/9\n",
      "----------\n"
     ]
    },
    {
     "name": "stderr",
     "output_type": "stream",
     "text": [
      "Loss: 0.0000: 100%|██████████| 429/429 [00:43<00:00,  9.80it/s]\n",
      "100%|██████████| 108/108 [00:05<00:00, 21.39it/s]\n",
      "2024-04-20 02:17:51,623 - INFO - Epoch 5/10\n"
     ]
    },
    {
     "name": "stdout",
     "output_type": "stream",
     "text": [
      "Loss: 0.0001, train Accuracy: 0.9999, train F1-Score: 0.9999\n",
      "validation Accuracy: 1.0000, validation F1-Score: 1.0000\n",
      "----------\n",
      "Epoch 4/9\n",
      "----------\n"
     ]
    },
    {
     "name": "stderr",
     "output_type": "stream",
     "text": [
      "Loss: 0.0000: 100%|██████████| 429/429 [00:44<00:00,  9.68it/s]\n",
      "100%|██████████| 108/108 [00:05<00:00, 21.35it/s]\n",
      "2024-04-20 02:18:41,016 - INFO - Epoch 6/10\n",
      "2024-04-20 02:18:41,017 - INFO - Early Stopping... epoch 6\n"
     ]
    },
    {
     "name": "stdout",
     "output_type": "stream",
     "text": [
      "Loss: 0.0000, train Accuracy: 1.0000, train F1-Score: 1.0000\n",
      "validation Accuracy: 1.0000, validation F1-Score: 1.0000\n",
      "----------\n",
      "Epoch 5/9\n",
      "----------\n",
      "Early Stopping....\n",
      "\n",
      "best epoch: 1, best f1 score: 1.0\n",
      "Training complete in 4m 9s\n"
     ]
    },
    {
     "name": "stderr",
     "output_type": "stream",
     "text": [
      "2024-04-20 02:18:41,491 - INFO - Stratified K-Fold: 2 / 5\n"
     ]
    },
    {
     "name": "stdout",
     "output_type": "stream",
     "text": [
      "\n",
      "Stratified K-Fold: 1\n",
      "----------\n"
     ]
    },
    {
     "name": "stderr",
     "output_type": "stream",
     "text": [
      "2024-04-20 02:18:41,972 - INFO - Loading pretrained weights from Hugging Face hub (timm/tf_efficientnetv2_m.in21k_ft_in1k)\n",
      "2024-04-20 02:18:42,298 - INFO - [timm/tf_efficientnetv2_m.in21k_ft_in1k] Safe alternative available for 'pytorch_model.bin' (as 'model.safetensors'). Loading weights using safetensors.\n",
      "2024-04-20 02:18:42,447 - INFO - Epoch 1/10\n"
     ]
    },
    {
     "name": "stdout",
     "output_type": "stream",
     "text": [
      "Epoch 0/9\n",
      "----------\n"
     ]
    },
    {
     "name": "stderr",
     "output_type": "stream",
     "text": [
      "Loss: 0.0000: 100%|██████████| 429/429 [00:43<00:00,  9.78it/s]\n",
      "100%|██████████| 108/108 [00:05<00:00, 21.01it/s]\n",
      "2024-04-20 02:19:31,479 - INFO - Epoch 2/10\n"
     ]
    },
    {
     "name": "stdout",
     "output_type": "stream",
     "text": [
      "Loss: 0.1099, train Accuracy: 0.9909, train F1-Score: 0.9909\n",
      "validation Accuracy: 0.9985, validation F1-Score: 0.9985\n",
      "----------\n",
      "Epoch 1/9\n",
      "----------\n"
     ]
    },
    {
     "name": "stderr",
     "output_type": "stream",
     "text": [
      "Loss: 0.0000: 100%|██████████| 429/429 [00:43<00:00,  9.85it/s]\n",
      "100%|██████████| 108/108 [00:05<00:00, 21.19it/s]\n",
      "2024-04-20 02:20:20,171 - INFO - Epoch 3/10\n"
     ]
    },
    {
     "name": "stdout",
     "output_type": "stream",
     "text": [
      "Loss: 0.0028, train Accuracy: 0.9993, train F1-Score: 0.9993\n",
      "validation Accuracy: 1.0000, validation F1-Score: 1.0000\n",
      "----------\n",
      "Epoch 2/9\n",
      "----------\n"
     ]
    },
    {
     "name": "stderr",
     "output_type": "stream",
     "text": [
      "Loss: 0.0000: 100%|██████████| 429/429 [00:44<00:00,  9.70it/s]\n",
      "100%|██████████| 108/108 [00:05<00:00, 21.00it/s]\n",
      "2024-04-20 02:21:09,576 - INFO - Epoch 4/10\n"
     ]
    },
    {
     "name": "stdout",
     "output_type": "stream",
     "text": [
      "Loss: 0.0001, train Accuracy: 1.0000, train F1-Score: 1.0000\n",
      "validation Accuracy: 1.0000, validation F1-Score: 1.0000\n",
      "----------\n",
      "Epoch 3/9\n",
      "----------\n"
     ]
    },
    {
     "name": "stderr",
     "output_type": "stream",
     "text": [
      "Loss: 0.0000: 100%|██████████| 429/429 [00:44<00:00,  9.73it/s]\n",
      "100%|██████████| 108/108 [00:05<00:00, 21.23it/s]\n",
      "2024-04-20 02:21:58,804 - INFO - Epoch 5/10\n"
     ]
    },
    {
     "name": "stdout",
     "output_type": "stream",
     "text": [
      "Loss: 0.0002, train Accuracy: 0.9999, train F1-Score: 0.9999\n",
      "validation Accuracy: 1.0000, validation F1-Score: 1.0000\n",
      "----------\n",
      "Epoch 4/9\n",
      "----------\n"
     ]
    },
    {
     "name": "stderr",
     "output_type": "stream",
     "text": [
      "Loss: 0.0000: 100%|██████████| 429/429 [00:44<00:00,  9.74it/s]\n",
      "100%|██████████| 108/108 [00:05<00:00, 21.13it/s]\n",
      "2024-04-20 02:22:48,021 - INFO - Epoch 6/10\n",
      "2024-04-20 02:22:48,022 - INFO - Early Stopping... epoch 6\n"
     ]
    },
    {
     "name": "stdout",
     "output_type": "stream",
     "text": [
      "Loss: 0.0008, train Accuracy: 0.9999, train F1-Score: 0.9999\n",
      "validation Accuracy: 1.0000, validation F1-Score: 1.0000\n",
      "----------\n",
      "Epoch 5/9\n",
      "----------\n",
      "Early Stopping....\n",
      "\n",
      "best epoch: 1, best f1 score: 1.0\n",
      "Training complete in 8m 16s\n"
     ]
    },
    {
     "name": "stderr",
     "output_type": "stream",
     "text": [
      "2024-04-20 02:22:48,311 - INFO - Stratified K-Fold: 3 / 5\n"
     ]
    },
    {
     "name": "stdout",
     "output_type": "stream",
     "text": [
      "\n",
      "Stratified K-Fold: 2\n",
      "----------\n"
     ]
    },
    {
     "name": "stderr",
     "output_type": "stream",
     "text": [
      "2024-04-20 02:22:48,752 - INFO - Loading pretrained weights from Hugging Face hub (timm/tf_efficientnetv2_m.in21k_ft_in1k)\n",
      "2024-04-20 02:22:49,037 - INFO - [timm/tf_efficientnetv2_m.in21k_ft_in1k] Safe alternative available for 'pytorch_model.bin' (as 'model.safetensors'). Loading weights using safetensors.\n",
      "2024-04-20 02:22:49,153 - INFO - Epoch 1/10\n"
     ]
    },
    {
     "name": "stdout",
     "output_type": "stream",
     "text": [
      "Epoch 0/9\n",
      "----------\n"
     ]
    },
    {
     "name": "stderr",
     "output_type": "stream",
     "text": [
      "Loss: 0.0000: 100%|██████████| 429/429 [00:44<00:00,  9.64it/s]\n",
      "100%|██████████| 108/108 [00:05<00:00, 21.04it/s]\n",
      "2024-04-20 02:23:38,849 - INFO - Epoch 2/10\n"
     ]
    },
    {
     "name": "stdout",
     "output_type": "stream",
     "text": [
      "Loss: 0.0865, train Accuracy: 0.9927, train F1-Score: 0.9927\n",
      "validation Accuracy: 1.0000, validation F1-Score: 1.0000\n",
      "----------\n",
      "Epoch 1/9\n",
      "----------\n"
     ]
    },
    {
     "name": "stderr",
     "output_type": "stream",
     "text": [
      "Loss: 0.0000: 100%|██████████| 429/429 [00:44<00:00,  9.69it/s]\n",
      "100%|██████████| 108/108 [00:05<00:00, 20.98it/s]\n",
      "2024-04-20 02:24:28,324 - INFO - Epoch 3/10\n"
     ]
    },
    {
     "name": "stdout",
     "output_type": "stream",
     "text": [
      "Loss: 0.0051, train Accuracy: 0.9994, train F1-Score: 0.9994\n",
      "validation Accuracy: 1.0000, validation F1-Score: 1.0000\n",
      "----------\n",
      "Epoch 2/9\n",
      "----------\n"
     ]
    },
    {
     "name": "stderr",
     "output_type": "stream",
     "text": [
      "Loss: 0.0000: 100%|██████████| 429/429 [00:44<00:00,  9.66it/s]\n",
      "100%|██████████| 108/108 [00:05<00:00, 20.93it/s]\n",
      "2024-04-20 02:25:17,947 - INFO - Epoch 4/10\n"
     ]
    },
    {
     "name": "stdout",
     "output_type": "stream",
     "text": [
      "Loss: 0.0002, train Accuracy: 0.9999, train F1-Score: 0.9999\n",
      "validation Accuracy: 1.0000, validation F1-Score: 1.0000\n",
      "----------\n",
      "Epoch 3/9\n",
      "----------\n"
     ]
    },
    {
     "name": "stderr",
     "output_type": "stream",
     "text": [
      "Loss: 0.0000: 100%|██████████| 429/429 [00:44<00:00,  9.64it/s]\n",
      "100%|██████████| 108/108 [00:05<00:00, 20.95it/s]\n",
      "2024-04-20 02:26:07,647 - INFO - Epoch 5/10\n",
      "2024-04-20 02:26:07,648 - INFO - Early Stopping... epoch 5\n"
     ]
    },
    {
     "name": "stdout",
     "output_type": "stream",
     "text": [
      "Loss: 0.0013, train Accuracy: 0.9997, train F1-Score: 0.9997\n",
      "validation Accuracy: 1.0000, validation F1-Score: 1.0000\n",
      "----------\n",
      "Epoch 4/9\n",
      "----------\n",
      "Early Stopping....\n",
      "\n",
      "best epoch: 0, best f1 score: 1.0\n",
      "Training complete in 11m 36s\n"
     ]
    },
    {
     "name": "stderr",
     "output_type": "stream",
     "text": [
      "2024-04-20 02:26:07,949 - INFO - Stratified K-Fold: 4 / 5\n"
     ]
    },
    {
     "name": "stdout",
     "output_type": "stream",
     "text": [
      "\n",
      "Stratified K-Fold: 3\n",
      "----------\n"
     ]
    },
    {
     "name": "stderr",
     "output_type": "stream",
     "text": [
      "2024-04-20 02:26:08,397 - INFO - Loading pretrained weights from Hugging Face hub (timm/tf_efficientnetv2_m.in21k_ft_in1k)\n",
      "2024-04-20 02:26:08,602 - INFO - [timm/tf_efficientnetv2_m.in21k_ft_in1k] Safe alternative available for 'pytorch_model.bin' (as 'model.safetensors'). Loading weights using safetensors.\n",
      "2024-04-20 02:26:08,717 - INFO - Epoch 1/10\n"
     ]
    },
    {
     "name": "stdout",
     "output_type": "stream",
     "text": [
      "Epoch 0/9\n",
      "----------\n"
     ]
    },
    {
     "name": "stderr",
     "output_type": "stream",
     "text": [
      "Loss: 0.0000: 100%|██████████| 429/429 [00:44<00:00,  9.68it/s]\n",
      "100%|██████████| 108/108 [00:05<00:00, 21.05it/s]\n",
      "2024-04-20 02:26:58,194 - INFO - Epoch 2/10\n"
     ]
    },
    {
     "name": "stdout",
     "output_type": "stream",
     "text": [
      "Loss: 0.0632, train Accuracy: 0.9931, train F1-Score: 0.9931\n",
      "validation Accuracy: 0.9988, validation F1-Score: 0.9988\n",
      "----------\n",
      "Epoch 1/9\n",
      "----------\n"
     ]
    },
    {
     "name": "stderr",
     "output_type": "stream",
     "text": [
      "Loss: 0.0000: 100%|██████████| 429/429 [00:44<00:00,  9.66it/s]\n",
      "100%|██████████| 108/108 [00:05<00:00, 20.92it/s]\n",
      "2024-04-20 02:27:47,804 - INFO - Epoch 3/10\n"
     ]
    },
    {
     "name": "stdout",
     "output_type": "stream",
     "text": [
      "Loss: 0.0025, train Accuracy: 0.9994, train F1-Score: 0.9994\n",
      "validation Accuracy: 0.9997, validation F1-Score: 0.9997\n",
      "----------\n",
      "Epoch 2/9\n",
      "----------\n"
     ]
    },
    {
     "name": "stderr",
     "output_type": "stream",
     "text": [
      "Loss: 0.0000: 100%|██████████| 429/429 [00:44<00:00,  9.60it/s]\n",
      "100%|██████████| 108/108 [00:05<00:00, 21.14it/s]\n",
      "2024-04-20 02:28:37,623 - INFO - Epoch 4/10\n"
     ]
    },
    {
     "name": "stdout",
     "output_type": "stream",
     "text": [
      "Loss: 0.0007, train Accuracy: 0.9999, train F1-Score: 0.9999\n",
      "validation Accuracy: 1.0000, validation F1-Score: 1.0000\n",
      "----------\n",
      "Epoch 3/9\n",
      "----------\n"
     ]
    },
    {
     "name": "stderr",
     "output_type": "stream",
     "text": [
      "Loss: 0.0000: 100%|██████████| 429/429 [00:44<00:00,  9.62it/s]\n",
      "100%|██████████| 108/108 [00:05<00:00, 20.86it/s]\n",
      "2024-04-20 02:29:27,419 - INFO - Epoch 5/10\n"
     ]
    },
    {
     "name": "stdout",
     "output_type": "stream",
     "text": [
      "Loss: 0.0001, train Accuracy: 0.9999, train F1-Score: 0.9999\n",
      "validation Accuracy: 1.0000, validation F1-Score: 1.0000\n",
      "----------\n",
      "Epoch 4/9\n",
      "----------\n"
     ]
    },
    {
     "name": "stderr",
     "output_type": "stream",
     "text": [
      "Loss: 0.0000: 100%|██████████| 429/429 [00:43<00:00,  9.78it/s]\n",
      "100%|██████████| 108/108 [00:05<00:00, 21.01it/s]\n",
      "2024-04-20 02:30:16,479 - INFO - Epoch 6/10\n"
     ]
    },
    {
     "name": "stdout",
     "output_type": "stream",
     "text": [
      "Loss: 0.0000, train Accuracy: 1.0000, train F1-Score: 1.0000\n",
      "validation Accuracy: 1.0000, validation F1-Score: 1.0000\n",
      "----------\n",
      "Epoch 5/9\n",
      "----------\n"
     ]
    },
    {
     "name": "stderr",
     "output_type": "stream",
     "text": [
      "Loss: 0.0000: 100%|██████████| 429/429 [00:44<00:00,  9.69it/s]\n",
      "100%|██████████| 108/108 [00:05<00:00, 20.89it/s]\n",
      "2024-04-20 02:31:05,964 - INFO - Epoch 7/10\n",
      "2024-04-20 02:31:05,965 - INFO - Early Stopping... epoch 7\n"
     ]
    },
    {
     "name": "stdout",
     "output_type": "stream",
     "text": [
      "Loss: 0.0000, train Accuracy: 1.0000, train F1-Score: 1.0000\n",
      "validation Accuracy: 1.0000, validation F1-Score: 1.0000\n",
      "----------\n",
      "Epoch 6/9\n",
      "----------\n",
      "Early Stopping....\n",
      "\n",
      "best epoch: 2, best f1 score: 1.0\n",
      "Training complete in 16m 34s\n"
     ]
    },
    {
     "name": "stderr",
     "output_type": "stream",
     "text": [
      "2024-04-20 02:31:06,396 - INFO - Stratified K-Fold: 5 / 5\n"
     ]
    },
    {
     "name": "stdout",
     "output_type": "stream",
     "text": [
      "\n",
      "Stratified K-Fold: 4\n",
      "----------\n"
     ]
    },
    {
     "name": "stderr",
     "output_type": "stream",
     "text": [
      "2024-04-20 02:31:06,843 - INFO - Loading pretrained weights from Hugging Face hub (timm/tf_efficientnetv2_m.in21k_ft_in1k)\n",
      "2024-04-20 02:31:07,309 - INFO - [timm/tf_efficientnetv2_m.in21k_ft_in1k] Safe alternative available for 'pytorch_model.bin' (as 'model.safetensors'). Loading weights using safetensors.\n",
      "2024-04-20 02:31:07,459 - INFO - Epoch 1/10\n"
     ]
    },
    {
     "name": "stdout",
     "output_type": "stream",
     "text": [
      "Epoch 0/9\n",
      "----------\n"
     ]
    },
    {
     "name": "stderr",
     "output_type": "stream",
     "text": [
      "Loss: 0.0000: 100%|██████████| 429/429 [00:43<00:00,  9.76it/s]\n",
      "100%|██████████| 108/108 [00:05<00:00, 20.91it/s]\n",
      "2024-04-20 02:31:56,609 - INFO - Epoch 2/10\n"
     ]
    },
    {
     "name": "stdout",
     "output_type": "stream",
     "text": [
      "Loss: 0.0750, train Accuracy: 0.9932, train F1-Score: 0.9932\n",
      "validation Accuracy: 1.0000, validation F1-Score: 1.0000\n",
      "----------\n",
      "Epoch 1/9\n",
      "----------\n"
     ]
    },
    {
     "name": "stderr",
     "output_type": "stream",
     "text": [
      "Loss: 0.0000: 100%|██████████| 429/429 [00:44<00:00,  9.61it/s]\n",
      "100%|██████████| 108/108 [00:05<00:00, 21.15it/s]\n",
      "2024-04-20 02:32:46,398 - INFO - Epoch 3/10\n"
     ]
    },
    {
     "name": "stdout",
     "output_type": "stream",
     "text": [
      "Loss: 0.0084, train Accuracy: 0.9984, train F1-Score: 0.9984\n",
      "validation Accuracy: 1.0000, validation F1-Score: 1.0000\n",
      "----------\n",
      "Epoch 2/9\n",
      "----------\n"
     ]
    },
    {
     "name": "stderr",
     "output_type": "stream",
     "text": [
      "Loss: 0.0000: 100%|██████████| 429/429 [00:44<00:00,  9.62it/s]\n",
      "100%|██████████| 108/108 [00:05<00:00, 20.98it/s]\n",
      "2024-04-20 02:33:36,163 - INFO - Epoch 4/10\n"
     ]
    },
    {
     "name": "stdout",
     "output_type": "stream",
     "text": [
      "Loss: 0.0006, train Accuracy: 0.9999, train F1-Score: 0.9999\n",
      "validation Accuracy: 1.0000, validation F1-Score: 1.0000\n",
      "----------\n",
      "Epoch 3/9\n",
      "----------\n"
     ]
    },
    {
     "name": "stderr",
     "output_type": "stream",
     "text": [
      "Loss: 0.0000: 100%|██████████| 429/429 [00:44<00:00,  9.62it/s]\n",
      "100%|██████████| 108/108 [00:05<00:00, 20.85it/s]\n",
      "2024-04-20 02:34:25,990 - INFO - Epoch 5/10\n",
      "2024-04-20 02:34:25,991 - INFO - Early Stopping... epoch 5\n"
     ]
    },
    {
     "name": "stdout",
     "output_type": "stream",
     "text": [
      "Loss: 0.0012, train Accuracy: 0.9998, train F1-Score: 0.9998\n",
      "validation Accuracy: 1.0000, validation F1-Score: 1.0000\n",
      "----------\n",
      "Epoch 4/9\n",
      "----------\n",
      "Early Stopping....\n",
      "\n",
      "best epoch: 0, best f1 score: 1.0\n",
      "Training complete in 19m 54s\n"
     ]
    }
   ],
   "source": [
    "# 훈련하기\n",
    "models = train_model(patience, num_epochs=num_epochs, device=device)"
   ]
  },
  {
   "cell_type": "code",
   "execution_count": 16,
   "metadata": {
    "execution": {
     "iopub.execute_input": "2024-04-19T17:34:26.334877Z",
     "iopub.status.busy": "2024-04-19T17:34:26.334628Z",
     "iopub.status.idle": "2024-04-19T17:34:26.338416Z",
     "shell.execute_reply": "2024-04-19T17:34:26.338025Z"
    }
   },
   "outputs": [
    {
     "name": "stderr",
     "output_type": "stream",
     "text": [
      "2024-04-20 02:34:26,335 - INFO - ----------------------------------------------\n",
      "2024-04-20 02:34:26,336 - INFO - 6. Finish Training\n"
     ]
    }
   ],
   "source": [
    "logging.info('----------------------------------------------')\n",
    "logging.info('6. Finish Training')"
   ]
  },
  {
   "cell_type": "code",
   "execution_count": 17,
   "metadata": {
    "execution": {
     "iopub.execute_input": "2024-04-19T17:34:26.340429Z",
     "iopub.status.busy": "2024-04-19T17:34:26.340264Z",
     "iopub.status.idle": "2024-04-19T17:34:27.383223Z",
     "shell.execute_reply": "2024-04-19T17:34:27.382718Z"
    }
   },
   "outputs": [],
   "source": [
    "# 모델 불러오기\n",
    "models = []\n",
    "\n",
    "for i in range(5):\n",
    "    with open(f'{root_path}/model/{model_name}/fold_{i}.pkl', 'rb') as f:\n",
    "        model = pickle.load(f)\n",
    "    models.append(model)"
   ]
  },
  {
   "cell_type": "markdown",
   "metadata": {},
   "source": [
    "### classifier로 나눈 3개의 클래스 중 class 1에 해당하는 row들만 가져오기"
   ]
  },
  {
   "cell_type": "code",
   "execution_count": 18,
   "metadata": {
    "execution": {
     "iopub.execute_input": "2024-04-19T17:34:27.385805Z",
     "iopub.status.busy": "2024-04-19T17:34:27.385689Z",
     "iopub.status.idle": "2024-04-19T17:34:27.391474Z",
     "shell.execute_reply": "2024-04-19T17:34:27.391055Z"
    }
   },
   "outputs": [],
   "source": [
    "# classifier 결과 csv 불러오기\n",
    "classfier_result = pd.read_csv(f'{root_path}/crossvit_18_dagger_240.in1k_class.csv')\n",
    "\n",
    "\n",
    "test_file = pd.read_csv(f'{root_path}/sample_submission.csv')"
   ]
  },
  {
   "cell_type": "code",
   "execution_count": 19,
   "metadata": {
    "execution": {
     "iopub.execute_input": "2024-04-19T17:34:27.393521Z",
     "iopub.status.busy": "2024-04-19T17:34:27.393391Z",
     "iopub.status.idle": "2024-04-19T17:34:27.399308Z",
     "shell.execute_reply": "2024-04-19T17:34:27.398894Z"
    }
   },
   "outputs": [
    {
     "data": {
      "text/html": [
       "<div>\n",
       "<style scoped>\n",
       "    .dataframe tbody tr th:only-of-type {\n",
       "        vertical-align: middle;\n",
       "    }\n",
       "\n",
       "    .dataframe tbody tr th {\n",
       "        vertical-align: top;\n",
       "    }\n",
       "\n",
       "    .dataframe thead th {\n",
       "        text-align: right;\n",
       "    }\n",
       "</style>\n",
       "<table border=\"1\" class=\"dataframe\">\n",
       "  <thead>\n",
       "    <tr style=\"text-align: right;\">\n",
       "      <th></th>\n",
       "      <th>ID</th>\n",
       "      <th>target</th>\n",
       "    </tr>\n",
       "  </thead>\n",
       "  <tbody>\n",
       "    <tr>\n",
       "      <th>0</th>\n",
       "      <td>0008fdb22ddce0ce.jpg</td>\n",
       "      <td>0</td>\n",
       "    </tr>\n",
       "    <tr>\n",
       "      <th>4</th>\n",
       "      <td>00901f504008d884.jpg</td>\n",
       "      <td>0</td>\n",
       "    </tr>\n",
       "    <tr>\n",
       "      <th>12</th>\n",
       "      <td>00f5784903a39fdd.jpg</td>\n",
       "      <td>0</td>\n",
       "    </tr>\n",
       "    <tr>\n",
       "      <th>27</th>\n",
       "      <td>021e7c8d9dc19021.jpg</td>\n",
       "      <td>0</td>\n",
       "    </tr>\n",
       "    <tr>\n",
       "      <th>33</th>\n",
       "      <td>02f79963274b3c41.jpg</td>\n",
       "      <td>0</td>\n",
       "    </tr>\n",
       "    <tr>\n",
       "      <th>...</th>\n",
       "      <td>...</td>\n",
       "      <td>...</td>\n",
       "    </tr>\n",
       "    <tr>\n",
       "      <th>3096</th>\n",
       "      <td>fc872debee38eb7d.jpg</td>\n",
       "      <td>0</td>\n",
       "    </tr>\n",
       "    <tr>\n",
       "      <th>3099</th>\n",
       "      <td>fcefb15c88bee6d2.jpg</td>\n",
       "      <td>0</td>\n",
       "    </tr>\n",
       "    <tr>\n",
       "      <th>3106</th>\n",
       "      <td>fd1049bb59b78775.jpg</td>\n",
       "      <td>0</td>\n",
       "    </tr>\n",
       "    <tr>\n",
       "      <th>3114</th>\n",
       "      <td>fd6c4a06eebc95ff.jpg</td>\n",
       "      <td>0</td>\n",
       "    </tr>\n",
       "    <tr>\n",
       "      <th>3134</th>\n",
       "      <td>ffae8e4907100e60.jpg</td>\n",
       "      <td>0</td>\n",
       "    </tr>\n",
       "  </tbody>\n",
       "</table>\n",
       "<p>400 rows × 2 columns</p>\n",
       "</div>"
      ],
      "text/plain": [
       "                        ID  target\n",
       "0     0008fdb22ddce0ce.jpg       0\n",
       "4     00901f504008d884.jpg       0\n",
       "12    00f5784903a39fdd.jpg       0\n",
       "27    021e7c8d9dc19021.jpg       0\n",
       "33    02f79963274b3c41.jpg       0\n",
       "...                    ...     ...\n",
       "3096  fc872debee38eb7d.jpg       0\n",
       "3099  fcefb15c88bee6d2.jpg       0\n",
       "3106  fd1049bb59b78775.jpg       0\n",
       "3114  fd6c4a06eebc95ff.jpg       0\n",
       "3134  ffae8e4907100e60.jpg       0\n",
       "\n",
       "[400 rows x 2 columns]"
      ]
     },
     "execution_count": 19,
     "metadata": {},
     "output_type": "execute_result"
    }
   ],
   "source": [
    "test_file_class_1 = test_file.loc[classfier_result['class'] == 1]\n",
    "test_file_class_1"
   ]
  },
  {
   "cell_type": "code",
   "execution_count": 20,
   "metadata": {
    "execution": {
     "iopub.execute_input": "2024-04-19T17:34:27.401418Z",
     "iopub.status.busy": "2024-04-19T17:34:27.401070Z",
     "iopub.status.idle": "2024-04-19T17:34:27.404074Z",
     "shell.execute_reply": "2024-04-19T17:34:27.403667Z"
    }
   },
   "outputs": [],
   "source": [
    "test_dataset = ImageDataset(\n",
    "    df=test_file_class_1,\n",
    "    path=test_path,\n",
    "    transform=test_transform,\n",
    ")\n",
    "\n",
    "test_loader = DataLoader(\n",
    "    test_dataset,\n",
    "    batch_size=batch_size,\n",
    "    shuffle=False,\n",
    "    num_workers=num_workers,\n",
    "    pin_memory=True\n",
    ")"
   ]
  },
  {
   "cell_type": "code",
   "execution_count": 21,
   "metadata": {
    "execution": {
     "iopub.execute_input": "2024-04-19T17:34:27.405932Z",
     "iopub.status.busy": "2024-04-19T17:34:27.405707Z",
     "iopub.status.idle": "2024-04-19T17:34:28.774151Z",
     "shell.execute_reply": "2024-04-19T17:34:28.773510Z"
    }
   },
   "outputs": [
    {
     "name": "stderr",
     "output_type": "stream",
     "text": [
      "100%|██████████| 13/13 [00:01<00:00,  9.56it/s]\n"
     ]
    }
   ],
   "source": [
    "preds_list = []\n",
    "\n",
    "for image, _ in tqdm(test_loader):\n",
    "    image = image.to(device)\n",
    "\n",
    "    preds = model(image)\n",
    "    preds_list.extend(preds.argmax(dim=1).detach().cpu().numpy())\n",
    "\n",
    "pred_df = pd.DataFrame(test_dataset.df, columns=['ID', 'target'])\n",
    "pred_df['target'] = preds_list"
   ]
  },
  {
   "cell_type": "code",
   "execution_count": 22,
   "metadata": {
    "execution": {
     "iopub.execute_input": "2024-04-19T17:34:28.776707Z",
     "iopub.status.busy": "2024-04-19T17:34:28.776530Z",
     "iopub.status.idle": "2024-04-19T17:34:28.780813Z",
     "shell.execute_reply": "2024-04-19T17:34:28.780291Z"
    }
   },
   "outputs": [],
   "source": [
    "# 0 --> 2\n",
    "# 1 --> 16 으로 다시 맵핑\n",
    "pred_df.loc[pred_df['target'] == 0, 'target'] = 2\n",
    "pred_df.loc[pred_df['target'] == 1, 'target'] = 16"
   ]
  },
  {
   "cell_type": "code",
   "execution_count": 23,
   "metadata": {
    "execution": {
     "iopub.execute_input": "2024-04-19T17:34:28.783243Z",
     "iopub.status.busy": "2024-04-19T17:34:28.782693Z",
     "iopub.status.idle": "2024-04-19T17:34:28.786391Z",
     "shell.execute_reply": "2024-04-19T17:34:28.785883Z"
    }
   },
   "outputs": [],
   "source": [
    "assert (test_file_class_1['ID'] == pred_df['ID']).all()"
   ]
  },
  {
   "cell_type": "code",
   "execution_count": 24,
   "metadata": {
    "execution": {
     "iopub.execute_input": "2024-04-19T17:34:28.788504Z",
     "iopub.status.busy": "2024-04-19T17:34:28.788272Z",
     "iopub.status.idle": "2024-04-19T17:34:28.796919Z",
     "shell.execute_reply": "2024-04-19T17:34:28.796361Z"
    }
   },
   "outputs": [
    {
     "data": {
      "text/html": [
       "<div>\n",
       "<style scoped>\n",
       "    .dataframe tbody tr th:only-of-type {\n",
       "        vertical-align: middle;\n",
       "    }\n",
       "\n",
       "    .dataframe tbody tr th {\n",
       "        vertical-align: top;\n",
       "    }\n",
       "\n",
       "    .dataframe thead th {\n",
       "        text-align: right;\n",
       "    }\n",
       "</style>\n",
       "<table border=\"1\" class=\"dataframe\">\n",
       "  <thead>\n",
       "    <tr style=\"text-align: right;\">\n",
       "      <th></th>\n",
       "      <th>ID</th>\n",
       "      <th>target</th>\n",
       "    </tr>\n",
       "  </thead>\n",
       "  <tbody>\n",
       "    <tr>\n",
       "      <th>0</th>\n",
       "      <td>0008fdb22ddce0ce.jpg</td>\n",
       "      <td>2</td>\n",
       "    </tr>\n",
       "    <tr>\n",
       "      <th>4</th>\n",
       "      <td>00901f504008d884.jpg</td>\n",
       "      <td>2</td>\n",
       "    </tr>\n",
       "    <tr>\n",
       "      <th>12</th>\n",
       "      <td>00f5784903a39fdd.jpg</td>\n",
       "      <td>16</td>\n",
       "    </tr>\n",
       "    <tr>\n",
       "      <th>27</th>\n",
       "      <td>021e7c8d9dc19021.jpg</td>\n",
       "      <td>16</td>\n",
       "    </tr>\n",
       "    <tr>\n",
       "      <th>33</th>\n",
       "      <td>02f79963274b3c41.jpg</td>\n",
       "      <td>2</td>\n",
       "    </tr>\n",
       "  </tbody>\n",
       "</table>\n",
       "</div>"
      ],
      "text/plain": [
       "                      ID  target\n",
       "0   0008fdb22ddce0ce.jpg       2\n",
       "4   00901f504008d884.jpg       2\n",
       "12  00f5784903a39fdd.jpg      16\n",
       "27  021e7c8d9dc19021.jpg      16\n",
       "33  02f79963274b3c41.jpg       2"
      ]
     },
     "execution_count": 24,
     "metadata": {},
     "output_type": "execute_result"
    }
   ],
   "source": [
    "result_path = f\"{root_path}/result\"\n",
    "if not os.path.exists(result_path):\n",
    "    os.makedirs(result_path)\n",
    "pred_df.to_csv(f\"{result_path}/{model_name}_class_1.csv\", index=False)\n",
    "pred_df.head()"
   ]
  },
  {
   "cell_type": "code",
   "execution_count": null,
   "metadata": {},
   "outputs": [],
   "source": []
  }
 ],
 "metadata": {
  "kernelspec": {
   "display_name": "base",
   "language": "python",
   "name": "python3"
  },
  "language_info": {
   "codemirror_mode": {
    "name": "ipython",
    "version": 3
   },
   "file_extension": ".py",
   "mimetype": "text/x-python",
   "name": "python",
   "nbconvert_exporter": "python",
   "pygments_lexer": "ipython3",
   "version": "3.10.13"
  }
 },
 "nbformat": 4,
 "nbformat_minor": 2
}
